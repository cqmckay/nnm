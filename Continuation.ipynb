{
 "cells": [
  {
   "cell_type": "markdown",
   "metadata": {},
   "source": [
    "We're trying to implement the pseudo-arclength continuation method described by Peeters et al. It has four steps: \n",
    "\n",
    "* a predictor step\n",
    "* evaluation of the residual\n",
    "* convergence check\n",
    "* corrector step(s) (if not converged)"
   ]
  },
  {
   "cell_type": "markdown",
   "metadata": {},
   "source": [
    "### Predictor step"
   ]
  },
  {
   "cell_type": "markdown",
   "metadata": {},
   "source": [
    "The predictor step makes a first guess at the value of the next normal mode by assuming that the normal modes follow linear paths through parameter space:\n",
    "\n",
    "$$\\left( \\begin{array}{c} \\mathbf{z}_{p_0, (j+1)}\\\\ T_{(j+1)} \\end{array}\\right)  = \n",
    "\\left( \\begin{array}{c} \\mathbf{z}_{p_0, (j)}\\\\ T_{(j)} \\end{array}\\right) + \n",
    "s_j\\left( \\begin{array}{c} \\mathbf{p}_{\\mathbf{z}_0, (j)}\\\\ p_{T,j} \\end{array}\\right)$$\n",
    "\n",
    "The trick, then, is to calculate the tangent vector. We get there by solving the homogeneous system\n",
    "\n",
    "$$\\left[ \\begin{array}{cc} {\\partial \\mathbf{H}\\over\\partial \\mathbf{z}_{p_0}} & {\\partial \\mathbf{H}\\over\\partial T} \\\\\n",
    "{\\partial h \\over \\partial \\mathbf{z}_{p_0}} & 0\\end{array}\\right] \n",
    "\\left[\\begin{array}{c}\\mathbf{p}_{z,(j)}\\\\ p_{T,(j)} \\end{array}\\right] = \n",
    "\\left[\\begin{array}{c}\\mathbf{0}\\\\0\\end{array} \\right]. $$\n",
    "\n",
    "This amounts to finding the null space of the matrix, which we can do via singular value decomposition (SVD).\n",
    "\n",
    "First we build the matrix. Essentially this is the same as the augmented jacobian we developed earlier; we'll just tweak our definitition to make it correct."
   ]
  },
  {
   "cell_type": "code",
   "execution_count": 56,
   "metadata": {
    "collapsed": false
   },
   "outputs": [],
   "source": [
    "import matplotlib.pyplot as plt\n",
    "import sympy\n",
    "import numpy as np\n",
    "import pandas as pd\n",
    "from scipy.integrate import odeint\n",
    "from scipy.linalg import svd, pinv\n",
    "from scipy.optimize import root\n",
    "\n",
    "%matplotlib inline"
   ]
  },
  {
   "cell_type": "code",
   "execution_count": 3,
   "metadata": {
    "collapsed": false
   },
   "outputs": [],
   "source": [
    "# helper functions\n",
    "def zdot(z, t):\n",
    "    x1, x2, x1dot, x2dot = z\n",
    "    x1ddot = -0.5*x1**3-(2*x1-x2)\n",
    "    x2ddot = -(2*x2-x1)\n",
    "    return (x1dot, x2dot, x1ddot, x2ddot)\n",
    "\n",
    "def fire(z0, T, returnfull=False):\n",
    "    t = np.linspace(0, T, 500)\n",
    "    thetaseries = odeint(zdot, z0, t)\n",
    "    if returnfull:\n",
    "        return thetaseries\n",
    "    else:\n",
    "        return thetaseries[-1,:]\n",
    "\n",
    "def measure(theta0, thetaT):\n",
    "    \"\"\"Calculate the residual\"\"\"\n",
    "    return thetaT - theta0\n",
    "\n",
    "def converged(residual, tol):\n",
    "    \"\"\"Check convergence to within tol, using the L2 norm\"\"\"\n",
    "    if sum(residual**2) <= tol:\n",
    "        return True\n",
    "    else:\n",
    "        return False, sum(residual**2)\n",
    "\n",
    "def augjac(theta0, T):\n",
    "    \"\"\"Compute the augmented jacobian matrix.\n",
    "    \n",
    "    I'm choosing clarity over efficiency here; if it becomes necessary to change that, I'll refactor.\"\"\"\n",
    "    \n",
    "    # get the baseline residual\n",
    "    final = fire(theta0, T)\n",
    "    H0 = measure(theta0, final)\n",
    "    #print \"augjac H0: \", H0\n",
    "    # choose a step size for the FD that is 0.01% of the residual\n",
    "    steps = np.abs(H0*0.0001)\n",
    "    #print \"augjac steps:\", steps\n",
    "    \n",
    "    jac = []\n",
    "\n",
    "    # finite differences\n",
    "    for idx, step in enumerate(steps):\n",
    "        thetaidx0 = np.array(theta0)\n",
    "        thetaidx0[idx] += step\n",
    "        Hidx = measure(thetaidx0, fire(thetaidx0, T))\n",
    "        col = (Hidx-H0)/step\n",
    "        if idx == 2:\n",
    "            col = np.append(col,[1.0],0)\n",
    "        else:\n",
    "            col = np.append(col,[0.0],0)\n",
    "        jac.append(col)\n",
    "\n",
    "    # last column is a little different\n",
    "    dHdT = zdot(final, T)\n",
    "    jac.append(np.append(np.array(dHdT), 0.0))\n",
    "\n",
    "    # turn it into a matrix and return the inverse\n",
    "    return np.matrix(np.array(jac).T)"
   ]
  },
  {
   "cell_type": "code",
   "execution_count": 4,
   "metadata": {
    "collapsed": false
   },
   "outputs": [
    {
     "data": {
      "text/plain": [
       "matrix([[ -5.51320455e-01,   5.51289422e-01,  -2.86854059e-01,\n",
       "           2.86969721e-01,  -8.50753111e-08],\n",
       "        [  5.55614785e-01,  -5.55645137e-01,   2.85252517e-01,\n",
       "          -2.85136736e-01,  -8.53622136e-08],\n",
       "        [  8.59745865e-01,  -8.59742191e-01,  -5.54055748e-01,\n",
       "           5.53949139e-01,  -9.99871207e-04],\n",
       "        [ -8.56574692e-01,   8.56577508e-01,   5.52878941e-01,\n",
       "          -5.52985904e-01,  -9.99871259e-04],\n",
       "        [  0.00000000e+00,   0.00000000e+00,   1.00000000e+00,\n",
       "           0.00000000e+00,   0.00000000e+00]])"
      ]
     },
     "execution_count": 4,
     "metadata": {},
     "output_type": "execute_result"
    }
   ],
   "source": [
    "mat1 = augjac((0.001,0.001,0,0), 2*np.pi)\n",
    "mat1"
   ]
  },
  {
   "cell_type": "code",
   "execution_count": 5,
   "metadata": {
    "collapsed": false
   },
   "outputs": [],
   "source": [
    "u,s,vh = svd(mat1)"
   ]
  },
  {
   "cell_type": "code",
   "execution_count": 6,
   "metadata": {
    "collapsed": false
   },
   "outputs": [
    {
     "data": {
      "text/plain": [
       "array([ 0.70710474,  0.7071051 ,  0.        ,  0.        ,  0.00229382])"
      ]
     },
     "execution_count": 6,
     "metadata": {},
     "output_type": "execute_result"
    }
   ],
   "source": [
    "tanvec = vh[-1]\n",
    "tanvec[abs(tanvec)<1e-6] = 0\n",
    "tanvec"
   ]
  },
  {
   "cell_type": "code",
   "execution_count": 7,
   "metadata": {
    "collapsed": false
   },
   "outputs": [
    {
     "data": {
      "text/plain": [
       "array([ 0.70710474,  0.7071051 ,  0.        ,  0.        ])"
      ]
     },
     "execution_count": 7,
     "metadata": {},
     "output_type": "execute_result"
    }
   ],
   "source": [
    "tanvec[0:4]"
   ]
  },
  {
   "cell_type": "code",
   "execution_count": 8,
   "metadata": {
    "collapsed": false
   },
   "outputs": [],
   "source": [
    "def tangentvector(z,T):\n",
    "    mat = augjac(z,T)\n",
    "    u,s,vh = svd(mat)\n",
    "    tanvec = vh[-1]\n",
    "    tanvec[abs(tanvec)<1.0e-6] = 0\n",
    "    return tanvec"
   ]
  },
  {
   "cell_type": "code",
   "execution_count": 9,
   "metadata": {
    "collapsed": false
   },
   "outputs": [],
   "source": [
    "def predictor(z,T,step):\n",
    "    tanvec = tangentvector(z,T)\n",
    "    return z+step*tanvec[0:4], T + step*tanvec[-1]"
   ]
  },
  {
   "cell_type": "markdown",
   "metadata": {},
   "source": [
    "The step size is apparently a little tricky. Peeters gives the relation $$s_{(j)} = \\left({N^*\\over N_{j-1}}\\right) s_{(j-1)}, $$ where $N^*$ is the target number of iterations in the corrector, and $N_{(j-1)}$ is the number of iterations the last time around. I won't know how to set it up until I've played around with it a little bit."
   ]
  },
  {
   "cell_type": "markdown",
   "metadata": {},
   "source": [
    "### Residual Evaluation"
   ]
  },
  {
   "cell_type": "markdown",
   "metadata": {},
   "source": [
    "Evaluating the residual is simple."
   ]
  },
  {
   "cell_type": "code",
   "execution_count": 10,
   "metadata": {
    "collapsed": false
   },
   "outputs": [],
   "source": [
    "def residual(z,T):\n",
    "    final = fire(z, T)\n",
    "    return(measure(z, final))"
   ]
  },
  {
   "cell_type": "markdown",
   "metadata": {},
   "source": [
    "### Convergence check"
   ]
  },
  {
   "cell_type": "markdown",
   "metadata": {},
   "source": [
    "We've already defined a convergence check, but I'll duplicate it here."
   ]
  },
  {
   "cell_type": "code",
   "execution_count": 11,
   "metadata": {
    "collapsed": false
   },
   "outputs": [],
   "source": [
    "def converged(residual, tol):\n",
    "    \"\"\"Check convergence to within tol, using the L2 norm\"\"\"\n",
    "    if sum(residual**2) <= tol:\n",
    "        return True\n",
    "    else:\n",
    "        return False, sum(residual**2)"
   ]
  },
  {
   "cell_type": "markdown",
   "metadata": {},
   "source": [
    "### Corrector step(s)"
   ]
  },
  {
   "cell_type": "markdown",
   "metadata": {},
   "source": [
    "For corrector steps, we use something like Newton-Raphson, but in practice I'll let `scipy.optimize.root` choose the exact method."
   ]
  },
  {
   "cell_type": "code",
   "execution_count": 12,
   "metadata": {
    "collapsed": false
   },
   "outputs": [],
   "source": [
    "def objective(xvec):\n",
    "    x1, x2, x1dot, x2dot, T = xvec\n",
    "    res = fire((x1, x2, x1dot, x2dot), T, returnfull=False)\n",
    "    return np.append(measure((x1, x2, x1dot, x2dot), res), x1dot)\n",
    "\n",
    "\n",
    "def corrector(z,T):\n",
    "    zt = np.append(z, T)\n",
    "    iterres = root(objective, zt, jac=False)\n",
    "    niter = iterres.nfev\n",
    "    solution = iterres.x\n",
    "    return solution"
   ]
  },
  {
   "cell_type": "markdown",
   "metadata": {},
   "source": [
    "### Putting it all together"
   ]
  },
  {
   "cell_type": "markdown",
   "metadata": {},
   "source": [
    "Because we're using a library routine to do the iterative correction, we don't even really need to run a convergence check before using it.\n",
    "\n",
    "I'm going to package everything together into a class."
   ]
  },
  {
   "cell_type": "code",
   "execution_count": 77,
   "metadata": {
    "collapsed": false
   },
   "outputs": [],
   "source": [
    "class Branch:\n",
    "    def __init__(self):\n",
    "        self.njminus1 = 10\n",
    "        self.stepsize = 0.001\n",
    "        self.nstar = 10\n",
    "        self.tangenttol = 1.0e-6\n",
    "        self.trajectory = []\n",
    "        self.energies = []\n",
    "        self.frequencies = []\n",
    "        self.tanvecs = []\n",
    "        self.niters = []\n",
    "        self.stepsizes = []\n",
    "        self.current_residual = 0.0\n",
    "        self.converged_tol = 1.0e-8 \n",
    "        \n",
    "    # For the predictor step\n",
    "    def zdot(self, z, t):\n",
    "        \"\"\"The derivative function.\n",
    "        \n",
    "        Depends on the model. This particular function is for 2DOF from Peeters.\"\"\"\n",
    "        \n",
    "        x1, x2, x1dot, x2dot = z\n",
    "        x1ddot = -0.5*x1**3-(2*x1-x2)\n",
    "        x2ddot = -(2*x2-x1)\n",
    "        return (x1dot, x2dot, x1ddot, x2ddot)\n",
    "\n",
    "    def fire(self, z0, T, returnfull=False):\n",
    "        \"\"\"Wrapper for odeint.\"\"\"\n",
    "        t = np.linspace(0, T, 500)\n",
    "        thetaseries = odeint(self.zdot, z0, t)\n",
    "        if returnfull:\n",
    "            return thetaseries\n",
    "        else:\n",
    "            return thetaseries[-1,:]\n",
    "\n",
    "    def measure(self, theta0, thetaT):\n",
    "        \"\"\"Calculate the residual\"\"\"\n",
    "        return thetaT - theta0\n",
    "    \n",
    "    def augjac(self, theta0, T):\n",
    "        \"\"\"Compute the augmented jacobian matrix.\n",
    "    \n",
    "        I'm choosing clarity over efficiency here; if it becomes necessary to change that, I'll refactor.\"\"\"\n",
    "    \n",
    "        # get the baseline residual\n",
    "        final = self.fire(theta0, T)\n",
    "        H0 = self.measure(theta0, final)\n",
    "\n",
    "        # choose a step size for the FD that is 0.01% of the residual\n",
    "        steps = np.abs(H0*0.0001)\n",
    "    \n",
    "        jac = []\n",
    "\n",
    "        # finite differences\n",
    "        for idx, step in enumerate(steps):\n",
    "            thetaidx0 = np.array(theta0)\n",
    "            thetaidx0[idx] += step\n",
    "            Hidx = self.measure(thetaidx0, fire(thetaidx0, T))\n",
    "            col = (Hidx-H0)/step\n",
    "            if idx == 2:\n",
    "                col = np.append(col,[1.0],0)\n",
    "            else:\n",
    "                col = np.append(col,[0.0],0)\n",
    "            jac.append(col)\n",
    "\n",
    "        # last column is a little different\n",
    "        dHdT = self.zdot(final, T)\n",
    "        jac.append(np.append(np.array(dHdT), 0.0))\n",
    "        \n",
    "        # turn it into a matrix with the correct orientation\n",
    "        return np.matrix(np.array(jac).T)        \n",
    "\n",
    "    def tangentvector(self, z, T):\n",
    "        mat = self.augjac(z,T)\n",
    "        u,s,vh = svd(mat)\n",
    "        tanvec = vh[-1]\n",
    "        tanvec[abs(tanvec)<self.tangenttol] = 0\n",
    "        return tanvec\n",
    "        \n",
    "    def predictor(self, z, T):\n",
    "        tanvec = self.tangentvector(z,T)\n",
    "        self.tanvecs.append(tanvec)\n",
    "        self.stepsize = (self.stepsize*self.nstar)/self.njminus1\n",
    "        self.stepsizes.append(self.stepsize)\n",
    "        return z+self.stepsize*tanvec[0:4], T + self.stepsize*tanvec[-1]\n",
    "    \n",
    "    # corrector step\n",
    "    def converged(self, z, T):\n",
    "        final = self.fire(z, T)\n",
    "        H = self.measure(z, final)\n",
    "        if np.sqrt(sum(H**2))/np.sqrt(sum(z**2)) < self.converged_tol:\n",
    "            return True\n",
    "        else:\n",
    "            return False\n",
    "        \n",
    "    def corrector(self, z, T):\n",
    "        final = self.fire(z, T)\n",
    "        H = self.measure(z, final)\n",
    "        if np.sqrt(sum(H**2))/np.sqrt(sum(z**2)) < self.converged_tol:\n",
    "            corrected = np.append(z, T)\n",
    "        else:\n",
    "            mat = self.augjac(z,T)\n",
    "            # this will have been supplied by the predictor step\n",
    "            tanvec = self.tanvecs[-1]\n",
    "            cor_mat = np.matrix(np.reshape(np.append(np.array(mat), tanvec),(6,5)))\n",
    "            invmat = pinv(cor_mat)\n",
    "            rhs = np.append(-H, -final[2])\n",
    "            correction = invmat * rhs.T\n",
    "            corrected = np.append(z, T) + correction\n",
    "        return corrected\n",
    "    \n",
    "    def nextpoint(self, z, T):\n",
    "        #predictor\n",
    "        predictedz, predictedT = self.predictor(z,T)\n",
    "        \n",
    "        #corrector if necessary\n",
    "        corrected = self.corrector(predictedz, predictedT)\n",
    "        \n",
    "        # store results\n",
    "        self.trajectory.append(corrected)\n",
    "        self.energies.append(self.calc_energy(corrected))\n",
    "        self.frequencies.append(self.calc_frequency(corrected))\n",
    "        \n",
    "        return corrected[0:4], corrected[-1]\n",
    "\n",
    "    def calc_energy(self, zt):\n",
    "        x1, x2, x1dot, x2dot, T = zt\n",
    "        kinetic = (x1dot**2 + x2dot**2)/2.0\n",
    "        potential = x1**2 + x2**2 - x1*x2 + x1**4/8.0\n",
    "        return kinetic + potential\n",
    "        \n",
    "    def calc_frequency(self, zt):\n",
    "        period = zt[-1]\n",
    "        frequency = 1.0/period\n",
    "        return frequency"
   ]
  },
  {
   "cell_type": "code",
   "execution_count": 78,
   "metadata": {
    "collapsed": false
   },
   "outputs": [],
   "source": [
    "inphase = Branch()"
   ]
  },
  {
   "cell_type": "code",
   "execution_count": 79,
   "metadata": {
    "collapsed": false
   },
   "outputs": [],
   "source": [
    "startz = np.array((0.0001, 0.0001, 0.0, 0.0))\n",
    "startT = np.pi*2\n",
    "\n",
    "predz, predT = predictor(startz,startT,0.001)"
   ]
  },
  {
   "cell_type": "code",
   "execution_count": 80,
   "metadata": {
    "collapsed": false
   },
   "outputs": [
    {
     "data": {
      "text/plain": [
       "(array([  8.73929347e-05,   8.73935364e-05,   2.12184395e-09,\n",
       "          4.09843864e-09]), 6.2821854661227388)"
      ]
     },
     "execution_count": 80,
     "metadata": {},
     "output_type": "execute_result"
    }
   ],
   "source": [
    "predz, predT"
   ]
  },
  {
   "cell_type": "code",
   "execution_count": 83,
   "metadata": {
    "collapsed": false
   },
   "outputs": [
    {
     "ename": "ValueError",
     "evalue": "operands could not be broadcast together with shapes (5,6) (5,) ",
     "output_type": "error",
     "traceback": [
      "\u001b[0;31m---------------------------------------------------------------------------\u001b[0m",
      "\u001b[0;31mValueError\u001b[0m                                Traceback (most recent call last)",
      "\u001b[0;32m<ipython-input-83-325c91e73f48>\u001b[0m in \u001b[0;36m<module>\u001b[0;34m()\u001b[0m\n\u001b[0;32m----> 1\u001b[0;31m \u001b[0minphase\u001b[0m\u001b[0;34m.\u001b[0m\u001b[0mcorrector\u001b[0m\u001b[0;34m(\u001b[0m\u001b[0mpredz\u001b[0m\u001b[0;34m,\u001b[0m \u001b[0mpredT\u001b[0m\u001b[0;34m)\u001b[0m\u001b[0;34m\u001b[0m\u001b[0m\n\u001b[0m",
      "\u001b[0;32m<ipython-input-77-34531dde6609>\u001b[0m in \u001b[0;36mcorrector\u001b[0;34m(self, z, T)\u001b[0m\n\u001b[1;32m    106\u001b[0m             \u001b[0minvmat\u001b[0m \u001b[0;34m=\u001b[0m \u001b[0mpinv\u001b[0m\u001b[0;34m(\u001b[0m\u001b[0mcor_mat\u001b[0m\u001b[0;34m)\u001b[0m\u001b[0;34m\u001b[0m\u001b[0m\n\u001b[1;32m    107\u001b[0m             \u001b[0mrhs\u001b[0m \u001b[0;34m=\u001b[0m \u001b[0mnp\u001b[0m\u001b[0;34m.\u001b[0m\u001b[0mappend\u001b[0m\u001b[0;34m(\u001b[0m\u001b[0;34m-\u001b[0m\u001b[0mH\u001b[0m\u001b[0;34m,\u001b[0m \u001b[0;34m-\u001b[0m\u001b[0mfinal\u001b[0m\u001b[0;34m[\u001b[0m\u001b[0;36m2\u001b[0m\u001b[0;34m]\u001b[0m\u001b[0;34m)\u001b[0m\u001b[0;34m\u001b[0m\u001b[0m\n\u001b[0;32m--> 108\u001b[0;31m             \u001b[0mcorrection\u001b[0m \u001b[0;34m=\u001b[0m \u001b[0minvmat\u001b[0m \u001b[0;34m*\u001b[0m \u001b[0mrhs\u001b[0m\u001b[0;34m.\u001b[0m\u001b[0mT\u001b[0m\u001b[0;34m\u001b[0m\u001b[0m\n\u001b[0m\u001b[1;32m    109\u001b[0m             \u001b[0mcorrected\u001b[0m \u001b[0;34m=\u001b[0m \u001b[0mnp\u001b[0m\u001b[0;34m.\u001b[0m\u001b[0mappend\u001b[0m\u001b[0;34m(\u001b[0m\u001b[0mz\u001b[0m\u001b[0;34m,\u001b[0m \u001b[0mT\u001b[0m\u001b[0;34m)\u001b[0m \u001b[0;34m+\u001b[0m \u001b[0mcorrection\u001b[0m\u001b[0;34m\u001b[0m\u001b[0m\n\u001b[1;32m    110\u001b[0m         \u001b[0;32mreturn\u001b[0m \u001b[0mcorrected\u001b[0m\u001b[0;34m\u001b[0m\u001b[0m\n",
      "\u001b[0;31mValueError\u001b[0m: operands could not be broadcast together with shapes (5,6) (5,) "
     ]
    }
   ],
   "source": [
    "inphase.corrector(predz, predT)"
   ]
  },
  {
   "cell_type": "code",
   "execution_count": 82,
   "metadata": {
    "collapsed": false
   },
   "outputs": [
    {
     "ename": "ValueError",
     "evalue": "operands could not be broadcast together with shapes (5,6) (5,) ",
     "output_type": "error",
     "traceback": [
      "\u001b[0;31m---------------------------------------------------------------------------\u001b[0m",
      "\u001b[0;31mValueError\u001b[0m                                Traceback (most recent call last)",
      "\u001b[0;32m<ipython-input-82-0c07920c2c15>\u001b[0m in \u001b[0;36m<module>\u001b[0;34m()\u001b[0m\n\u001b[0;32m----> 1\u001b[0;31m \u001b[0minphase\u001b[0m\u001b[0;34m.\u001b[0m\u001b[0mnextpoint\u001b[0m\u001b[0;34m(\u001b[0m\u001b[0;34m(\u001b[0m\u001b[0;36m4.45327585e-05\u001b[0m\u001b[0;34m,\u001b[0m \u001b[0;36m4.45329371e-05\u001b[0m\u001b[0;34m,\u001b[0m \u001b[0;36m0.0\u001b[0m\u001b[0;34m,\u001b[0m \u001b[0;36m0.0\u001b[0m\u001b[0;34m)\u001b[0m\u001b[0;34m,\u001b[0m \u001b[0;36m6.28231930e+00\u001b[0m\u001b[0;34m)\u001b[0m\u001b[0;34m\u001b[0m\u001b[0m\n\u001b[0m",
      "\u001b[0;32m<ipython-input-77-34531dde6609>\u001b[0m in \u001b[0;36mnextpoint\u001b[0;34m(self, z, T)\u001b[0m\n\u001b[1;32m    115\u001b[0m \u001b[0;34m\u001b[0m\u001b[0m\n\u001b[1;32m    116\u001b[0m         \u001b[0;31m#corrector if necessary\u001b[0m\u001b[0;34m\u001b[0m\u001b[0;34m\u001b[0m\u001b[0m\n\u001b[0;32m--> 117\u001b[0;31m         \u001b[0mcorrected\u001b[0m \u001b[0;34m=\u001b[0m \u001b[0mself\u001b[0m\u001b[0;34m.\u001b[0m\u001b[0mcorrector\u001b[0m\u001b[0;34m(\u001b[0m\u001b[0mpredictedz\u001b[0m\u001b[0;34m,\u001b[0m \u001b[0mpredictedT\u001b[0m\u001b[0;34m)\u001b[0m\u001b[0;34m\u001b[0m\u001b[0m\n\u001b[0m\u001b[1;32m    118\u001b[0m \u001b[0;34m\u001b[0m\u001b[0m\n\u001b[1;32m    119\u001b[0m         \u001b[0;31m# store results\u001b[0m\u001b[0;34m\u001b[0m\u001b[0;34m\u001b[0m\u001b[0m\n",
      "\u001b[0;32m<ipython-input-77-34531dde6609>\u001b[0m in \u001b[0;36mcorrector\u001b[0;34m(self, z, T)\u001b[0m\n\u001b[1;32m    106\u001b[0m             \u001b[0minvmat\u001b[0m \u001b[0;34m=\u001b[0m \u001b[0mpinv\u001b[0m\u001b[0;34m(\u001b[0m\u001b[0mcor_mat\u001b[0m\u001b[0;34m)\u001b[0m\u001b[0;34m\u001b[0m\u001b[0m\n\u001b[1;32m    107\u001b[0m             \u001b[0mrhs\u001b[0m \u001b[0;34m=\u001b[0m \u001b[0mnp\u001b[0m\u001b[0;34m.\u001b[0m\u001b[0mappend\u001b[0m\u001b[0;34m(\u001b[0m\u001b[0;34m-\u001b[0m\u001b[0mH\u001b[0m\u001b[0;34m,\u001b[0m \u001b[0;34m-\u001b[0m\u001b[0mfinal\u001b[0m\u001b[0;34m[\u001b[0m\u001b[0;36m2\u001b[0m\u001b[0;34m]\u001b[0m\u001b[0;34m)\u001b[0m\u001b[0;34m\u001b[0m\u001b[0m\n\u001b[0;32m--> 108\u001b[0;31m             \u001b[0mcorrection\u001b[0m \u001b[0;34m=\u001b[0m \u001b[0minvmat\u001b[0m \u001b[0;34m*\u001b[0m \u001b[0mrhs\u001b[0m\u001b[0;34m.\u001b[0m\u001b[0mT\u001b[0m\u001b[0;34m\u001b[0m\u001b[0m\n\u001b[0m\u001b[1;32m    109\u001b[0m             \u001b[0mcorrected\u001b[0m \u001b[0;34m=\u001b[0m \u001b[0mnp\u001b[0m\u001b[0;34m.\u001b[0m\u001b[0mappend\u001b[0m\u001b[0;34m(\u001b[0m\u001b[0mz\u001b[0m\u001b[0;34m,\u001b[0m \u001b[0mT\u001b[0m\u001b[0;34m)\u001b[0m \u001b[0;34m+\u001b[0m \u001b[0mcorrection\u001b[0m\u001b[0;34m\u001b[0m\u001b[0m\n\u001b[1;32m    110\u001b[0m         \u001b[0;32mreturn\u001b[0m \u001b[0mcorrected\u001b[0m\u001b[0;34m\u001b[0m\u001b[0m\n",
      "\u001b[0;31mValueError\u001b[0m: operands could not be broadcast together with shapes (5,6) (5,) "
     ]
    }
   ],
   "source": [
    "inphase.nextpoint((4.45327585e-05, 4.45329371e-05, 0.0, 0.0), 6.28231930e+00)"
   ]
  },
  {
   "cell_type": "code",
   "execution_count": 76,
   "metadata": {
    "collapsed": false
   },
   "outputs": [
    {
     "data": {
      "text/plain": [
       "[array([[  6.39691709e-05,   5.96584234e-05,   3.59875729e-11,\n",
       "           5.40518031e-08,   6.28332041e+00],\n",
       "        [  5.81605961e-05,   5.21644488e-05,   3.53946611e-11,\n",
       "          -4.28112352e-08,   6.28332130e+00],\n",
       "        [  5.98228828e-05,   5.43073067e-05,  -3.33646855e-11,\n",
       "           3.62447907e-08,   6.28332104e+00],\n",
       "        [  5.97785423e-05,   5.42698178e-05,  -3.32855131e-11,\n",
       "          -2.43688127e-08,   6.28332105e+00],\n",
       "        [  7.92493268e-05,   7.92581322e-05,   6.20635141e-08,\n",
       "           6.63367017e-08,   6.28331809e+00],\n",
       "        [  7.92307905e-05,   7.92343337e-05,  -5.28112652e-15,\n",
       "           5.72247348e-09,   6.28331816e+00]])]"
      ]
     },
     "execution_count": 76,
     "metadata": {},
     "output_type": "execute_result"
    }
   ],
   "source": [
    "inphase.trajectory"
   ]
  },
  {
   "cell_type": "code",
   "execution_count": 20,
   "metadata": {
    "collapsed": false
   },
   "outputs": [
    {
     "data": {
      "text/plain": [
       "0.001"
      ]
     },
     "execution_count": 20,
     "metadata": {},
     "output_type": "execute_result"
    }
   ],
   "source": [
    "inphase.stepsize"
   ]
  },
  {
   "cell_type": "code",
   "execution_count": 21,
   "metadata": {
    "collapsed": false
   },
   "outputs": [
    {
     "data": {
      "text/plain": [
       "[0.15915157960922488]"
      ]
     },
     "execution_count": 21,
     "metadata": {},
     "output_type": "execute_result"
    }
   ],
   "source": [
    "inphase.frequencies"
   ]
  },
  {
   "cell_type": "code",
   "execution_count": 22,
   "metadata": {
    "collapsed": false
   },
   "outputs": [
    {
     "data": {
      "text/plain": [
       "[6.278357052806621e-09]"
      ]
     },
     "execution_count": 22,
     "metadata": {},
     "output_type": "execute_result"
    }
   ],
   "source": [
    "inphase.energies"
   ]
  },
  {
   "cell_type": "code",
   "execution_count": 23,
   "metadata": {
    "collapsed": false
   },
   "outputs": [],
   "source": [
    "nextzt = inphase.nextpoint(np.array((4.46573393e-05,   4.46556388e-05,  -1.58600893e-26,-2.59958889e-09)),6.2823225677008958)"
   ]
  },
  {
   "cell_type": "code",
   "execution_count": 24,
   "metadata": {
    "collapsed": false
   },
   "outputs": [],
   "source": [
    "inphase.nstar = 20"
   ]
  },
  {
   "cell_type": "code",
   "execution_count": 25,
   "metadata": {
    "collapsed": false
   },
   "outputs": [],
   "source": [
    "nextz = nextzt[0]\n",
    "nextT = nextzt[-1]\n",
    "nextzt = inphase.nextpoint(nextz, nextT)"
   ]
  },
  {
   "cell_type": "code",
   "execution_count": 26,
   "metadata": {
    "collapsed": false
   },
   "outputs": [
    {
     "data": {
      "text/plain": [
       "51"
      ]
     },
     "execution_count": 26,
     "metadata": {},
     "output_type": "execute_result"
    }
   ],
   "source": [
    "inphase.njminus1"
   ]
  },
  {
   "cell_type": "code",
   "execution_count": 27,
   "metadata": {
    "collapsed": false
   },
   "outputs": [
    {
     "data": {
      "text/plain": [
       "0.2"
      ]
     },
     "execution_count": 27,
     "metadata": {},
     "output_type": "execute_result"
    }
   ],
   "source": [
    "inphase.stepsize"
   ]
  },
  {
   "cell_type": "code",
   "execution_count": 29,
   "metadata": {
    "collapsed": false
   },
   "outputs": [],
   "source": [
    "for x in range(10):\n",
    "    nextz = nextzt[0]\n",
    "    nextT = nextzt[-1]\n",
    "    nextzt = inphase.nextpoint(nextz, nextT)"
   ]
  },
  {
   "cell_type": "code",
   "execution_count": 30,
   "metadata": {
    "collapsed": false
   },
   "outputs": [
    {
     "data": {
      "text/plain": [
       "[0.001,\n",
       " 0.01,\n",
       " 0.2,\n",
       " 0.0784313725490196,\n",
       " 1.5686274509803921,\n",
       " 31.372549019607842,\n",
       " 627.4509803921568,\n",
       " 12549.019607843136,\n",
       " 250980.3921568627,\n",
       " 5019607.843137254,\n",
       " 100392156.86274508,\n",
       " 2007843137.2549014,\n",
       " 40156862745.09803]"
      ]
     },
     "execution_count": 30,
     "metadata": {},
     "output_type": "execute_result"
    }
   ],
   "source": [
    "inphase.stepsizes"
   ]
  },
  {
   "cell_type": "code",
   "execution_count": 31,
   "metadata": {
    "collapsed": false
   },
   "outputs": [
    {
     "data": {
      "text/plain": [
       "[1, 1, 51, 1, 1, 1, 1, 1, 1, 1, 1, 1, 1]"
      ]
     },
     "execution_count": 31,
     "metadata": {},
     "output_type": "execute_result"
    }
   ],
   "source": [
    "inphase.niters"
   ]
  },
  {
   "cell_type": "code",
   "execution_count": 32,
   "metadata": {
    "collapsed": false
   },
   "outputs": [
    {
     "data": {
      "text/plain": [
       "[array([  3.47011162e-02,   3.47053563e-02,   0.00000000e+00,\n",
       "          5.72243863e-06,   9.98794959e-01]),\n",
       " array([  3.50321398e-02,   3.50272874e-02,   0.00000000e+00,\n",
       "         -7.41778429e-06,   9.98772165e-01]),\n",
       " array([ 0.04291904,  0.04291905,  0.        ,  0.        , -0.99815626]),\n",
       " array([ 0.,  0.,  0.,  0.,  1.]),\n",
       " array([ 0.,  0.,  0.,  0.,  1.]),\n",
       " array([ 0.,  0.,  0.,  0.,  1.]),\n",
       " array([ 0.,  0.,  0.,  0.,  1.]),\n",
       " array([ 0.,  0.,  0.,  0., -1.]),\n",
       " array([ 0.,  0.,  0.,  0.,  1.]),\n",
       " array([ 0.,  0.,  0.,  0., -1.]),\n",
       " array([ 0.,  0.,  0.,  0.,  1.]),\n",
       " array([ 0.,  0.,  0.,  0.,  1.]),\n",
       " array([ 0.,  0.,  0.,  0., -1.])]"
      ]
     },
     "execution_count": 32,
     "metadata": {},
     "output_type": "execute_result"
    }
   ],
   "source": [
    "inphase.tanvecs"
   ]
  },
  {
   "cell_type": "code",
   "execution_count": 33,
   "metadata": {
    "collapsed": false
   },
   "outputs": [
    {
     "data": {
      "text/plain": [
       "[0.15915157960922488,\n",
       " 0.15892413978564507,\n",
       " 0.16412452784889267,\n",
       " 0.16203868295994697,\n",
       " 0.12919907765380881,\n",
       " 0.025567246202497656,\n",
       " 0.0015002321097295976,\n",
       " -8.4157685316784076e-05,\n",
       " 4.1823865836292423e-06,\n",
       " -2.0918270633055738e-07,\n",
       " 1.0458976828037966e-08,\n",
       " 4.7540836508891082e-10,\n",
       " -2.6278855261211637e-11]"
      ]
     },
     "execution_count": 33,
     "metadata": {},
     "output_type": "execute_result"
    }
   ],
   "source": [
    "inphase.frequencies"
   ]
  },
  {
   "cell_type": "code",
   "execution_count": 34,
   "metadata": {
    "collapsed": false
   },
   "outputs": [
    {
     "data": {
      "text/plain": [
       "[6.278357052806621e-09,\n",
       " 1.5598837375716694e-07,\n",
       " 2.9685681134563745e-47,\n",
       " 2.9685681134563745e-47,\n",
       " 2.9685681134563745e-47,\n",
       " 2.9685681134563745e-47,\n",
       " 2.9685681134563745e-47,\n",
       " 2.9685681134563745e-47,\n",
       " 2.9685681134563745e-47,\n",
       " 2.9685681134563745e-47,\n",
       " 2.9685681134563745e-47,\n",
       " 2.9685681134563745e-47,\n",
       " 2.9685681134563745e-47]"
      ]
     },
     "execution_count": 34,
     "metadata": {},
     "output_type": "execute_result"
    }
   ],
   "source": [
    "inphase.energies"
   ]
  },
  {
   "cell_type": "code",
   "execution_count": 73,
   "metadata": {
    "collapsed": false
   },
   "outputs": [],
   "source": [
    "import matplotlib.pylab as plt\n",
    "%matplotlib inline"
   ]
  },
  {
   "cell_type": "code",
   "execution_count": 97,
   "metadata": {
    "collapsed": false
   },
   "outputs": [
    {
     "data": {
      "text/plain": [
       "[<matplotlib.lines.Line2D at 0x10cfb7e90>]"
      ]
     },
     "execution_count": 97,
     "metadata": {},
     "output_type": "execute_result"
    },
    {
     "data": {
      "image/png": "[encoded data removed]",
      "text/plain": [
       "<matplotlib.figure.Figure at 0x10ce7f910>"
      ]
     },
     "metadata": {},
     "output_type": "display_data"
    }
   ],
   "source": [
    "plt.plot(inphase.energies, inphase.frequencies)"
   ]
  },
  {
   "cell_type": "code",
   "execution_count": 75,
   "metadata": {
    "collapsed": false
   },
   "outputs": [
    {
     "data": {
      "text/plain": [
       "(array([  6.49836675e-05,   6.49775012e-05,   2.02792612e-32,\n",
       "         -9.89535228e-09]), 6.2831871139649289)"
      ]
     },
     "execution_count": 75,
     "metadata": {},
     "output_type": "execute_result"
    }
   ],
   "source": [
    "nextzt"
   ]
  },
  {
   "cell_type": "code",
   "execution_count": 98,
   "metadata": {
    "collapsed": false
   },
   "outputs": [
    {
     "data": {
      "text/plain": [
       "[6.2783570528076583e-09,\n",
       " 1.5598837375717457e-07,\n",
       " 6.0182044137832844e-20,\n",
       " 6.0182044137832844e-20,\n",
       " 6.0182044137832844e-20,\n",
       " 6.0182044137832844e-20,\n",
       " 6.0182044137832844e-20,\n",
       " 6.0182044137832844e-20,\n",
       " 6.0182044137832844e-20,\n",
       " 6.0182044137832844e-20,\n",
       " 6.0182044137832844e-20,\n",
       " 6.0182044137832844e-20,\n",
       " 6.0182044137832844e-20]"
      ]
     },
     "execution_count": 98,
     "metadata": {},
     "output_type": "execute_result"
    }
   ],
   "source": [
    "inphase.energies"
   ]
  },
  {
   "cell_type": "code",
   "execution_count": 77,
   "metadata": {
    "collapsed": false
   },
   "outputs": [
    {
     "data": {
      "text/plain": [
       "[array([  7.92338747e-05,   7.92382934e-05,   0.00000000e+00,\n",
       "          5.72243863e-09,   6.28331809e+00]),\n",
       " array([  7.96894791e-05,   7.96829262e-05,  -1.58600893e-26,\n",
       "         -1.00173732e-08,   6.28332134e+00]),\n",
       " array([  4.50462805e-05,   4.50444898e-05,   2.02792612e-32,\n",
       "         -3.00379645e-09,   6.28231760e+00]),\n",
       " array([  6.76958023e-05,   6.76908999e-05,   2.02792612e-32,\n",
       "         -7.75694571e-09,   6.28295171e+00]),\n",
       " array([  6.87866171e-05,   6.87805498e-05,   2.02792612e-32,\n",
       "         -9.70989542e-09,   6.28315327e+00]),\n",
       " array([  6.29085076e-05,   6.29023139e-05,   2.02792612e-32,\n",
       "         -9.94506808e-09,   6.28321671e+00]),\n",
       " array([  6.40793120e-05,   6.40731336e-05,   2.02792612e-32,\n",
       "         -9.92023704e-09,   6.28319647e+00]),\n",
       " array([  6.46982943e-05,   6.46921239e-05,   2.02792612e-32,\n",
       "         -9.90359677e-09,   6.28319008e+00]),\n",
       " array([  6.48938152e-05,   6.48876476e-05,   2.02792612e-32,\n",
       "         -9.89798466e-09,   6.28318805e+00]),\n",
       " array([  6.49557929e-05,   6.49496262e-05,   2.02792612e-32,\n",
       "         -9.89617338e-09,   6.28318740e+00]),\n",
       " array([  6.49754464e-05,   6.49692799e-05,   2.02792612e-32,\n",
       "         -9.89559434e-09,   6.28318720e+00]),\n",
       " array([  6.49816866e-05,   6.49755202e-05,   2.02792612e-32,\n",
       "         -9.89541062e-09,   6.28318713e+00]),\n",
       " array([  6.49836675e-05,   6.49775012e-05,   2.02792612e-32,\n",
       "         -9.89535228e-09,   6.28318711e+00])]"
      ]
     },
     "execution_count": 77,
     "metadata": {},
     "output_type": "execute_result"
    }
   ],
   "source": [
    "inphase.trajectory"
   ]
  },
  {
   "cell_type": "code",
   "execution_count": 37,
   "metadata": {
    "collapsed": false
   },
   "outputs": [
    {
     "data": {
      "text/plain": [
       "[0.15917679953927677,\n",
       " 0.15917676526714192,\n",
       " 0.15917679921790115,\n",
       " 0.15917681578500067,\n",
       " 0.15917681685407625,\n",
       " 0.15917680885122801,\n",
       " 0.15917683281633102,\n",
       " 0.1591766728024957,\n",
       " 0.15917663578287322,\n",
       " 0.15917679575672614,\n",
       " 0.159176689977405,\n",
       " 0.15917667870991986,\n",
       " 0.15917679457368988]"
      ]
     },
     "execution_count": 37,
     "metadata": {},
     "output_type": "execute_result"
    }
   ],
   "source": [
    "inphase.frequencies"
   ]
  },
  {
   "cell_type": "code",
   "execution_count": 36,
   "metadata": {
    "collapsed": false
   },
   "outputs": [
    {
     "data": {
      "text/plain": [
       "array([ 1.2,  1.3,  1.4,  1.5,  6.2])"
      ]
     },
     "execution_count": 36,
     "metadata": {},
     "output_type": "execute_result"
    }
   ],
   "source": [
    "z = np.array([1.2, 1.3, 1.4, 1.5])\n",
    "T = 6.2\n",
    "np.append(z, T)"
   ]
  },
  {
   "cell_type": "code",
   "execution_count": 37,
   "metadata": {
    "collapsed": false
   },
   "outputs": [
    {
     "data": {
      "text/plain": [
       "array([  7.92338747e-05,   7.92382934e-05,   0.00000000e+00,\n",
       "         5.72243863e-09,   6.28331809e+00])"
      ]
     },
     "execution_count": 37,
     "metadata": {},
     "output_type": "execute_result"
    }
   ],
   "source": [
    "inphase.trajectory[0]"
   ]
  },
  {
   "cell_type": "code",
   "execution_count": 41,
   "metadata": {
    "collapsed": true
   },
   "outputs": [],
   "source": [
    "z= inphase.trajectory[0][0:4]\n",
    "T = inphase.trajectory[0][4]"
   ]
  },
  {
   "cell_type": "code",
   "execution_count": 58,
   "metadata": {
    "collapsed": false
   },
   "outputs": [],
   "source": [
    "mat = inphase.augjac(z, T)\n",
    "tanvec = inphase.tangentvector(z, T)\n",
    "auged = np.matrix(np.reshape(np.append(np.array(mat), tanvec),(6,5)) )\n",
    "invmat = pinv(auged)\n",
    "rhs = "
   ]
  },
  {
   "cell_type": "code",
   "execution_count": 43,
   "metadata": {
    "collapsed": false
   },
   "outputs": [
    {
     "data": {
      "text/plain": [
       "matrix([[ -5.77191221e-01,   5.76827250e-01,  -3.07814407e-01,\n",
       "           3.08587371e-01,  -6.20635909e-08],\n",
       "        [  5.02793264e-01,  -5.03158025e-01,   2.67775610e-01,\n",
       "          -2.67002697e-01,  -5.48915480e-08],\n",
       "        [  8.17457519e-01,  -8.17852336e-01,  -5.64508104e-01,\n",
       "           5.64183336e-01,  -7.92091117e-05],\n",
       "        [ -9.08801079e-01,   9.08404433e-01,   5.15483356e-01,\n",
       "          -5.15808755e-01,  -7.91981734e-05],\n",
       "        [  0.00000000e+00,   0.00000000e+00,   1.00000000e+00,\n",
       "           0.00000000e+00,   0.00000000e+00]])"
      ]
     },
     "execution_count": 43,
     "metadata": {},
     "output_type": "execute_result"
    }
   ],
   "source": [
    "mat"
   ]
  },
  {
   "cell_type": "code",
   "execution_count": 45,
   "metadata": {
    "collapsed": false
   },
   "outputs": [
    {
     "data": {
      "text/plain": [
       "array([ 0.10916781,  0.10916764,  0.        ,  0.        , -0.98801053])"
      ]
     },
     "execution_count": 45,
     "metadata": {},
     "output_type": "execute_result"
    }
   ],
   "source": [
    "tanvec"
   ]
  },
  {
   "cell_type": "code",
   "execution_count": null,
   "metadata": {
    "collapsed": true
   },
   "outputs": [],
   "source": []
  }
 ],
 "metadata": {
  "kernelspec": {
   "display_name": "Python 3",
   "language": "python",
   "name": "python3"
  },
  "language_info": {
   "codemirror_mode": {
    "name": "ipython",
    "version": 3
   },
   "file_extension": ".py",
   "mimetype": "text/x-python",
   "name": "python",
   "nbconvert_exporter": "python",
   "pygments_lexer": "ipython3",
   "version": "3.4.3"
  }
 },
 "nbformat": 4,
 "nbformat_minor": 0
}
