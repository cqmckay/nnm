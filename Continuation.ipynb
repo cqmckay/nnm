{
 "metadata": {
  "name": "",
  "signature": "sha256:50f67ebd6b81102e11034bc4c045221a2115a89580e668b897dfc2dadddbccf1"
 },
 "nbformat": 3,
 "nbformat_minor": 0,
 "worksheets": [
  {
   "cells": [
    {
     "cell_type": "markdown",
     "metadata": {},
     "source": [
      "We're trying to implement the pseudo-arclength continuation method described by Peeters et al. It has four steps: \n",
      "\n",
      "* a predictor step\n",
      "* evaluation of the residual\n",
      "* convergence check\n",
      "* corrector step(s) (if not converged)"
     ]
    },
    {
     "cell_type": "heading",
     "level": 3,
     "metadata": {},
     "source": [
      "Predictor step"
     ]
    },
    {
     "cell_type": "markdown",
     "metadata": {},
     "source": [
      "The predictor step makes a first guess at the value of the next normal mode by assuming that the normal modes follow linear paths through parameter space:\n",
      "\n",
      "$$\\left( \\begin{array}{c} \\mathbf{z}_{p_0, (j+1)}\\\\ T_{(j+1)} \\end{array}\\right)  = \n",
      "\\left( \\begin{array}{c} \\mathbf{z}_{p_0, (j)}\\\\ T_{(j)} \\end{array}\\right) + \n",
      "s_j\\left( \\begin{array}{c} \\mathbf{p}_{\\mathbf{z}_0, (j)}\\\\ p_{T,j} \\end{array}\\right)$$\n",
      "\n",
      "The trick, then, is to calculate the tangent vector. We get there by solving the homogeneous system\n",
      "\n",
      "$$\\left[ \\begin{array}{cc} {\\partial \\mathbf{H}\\over\\partial \\mathbf{z}_{p_0}} & {\\partial \\mathbf{H}\\over\\partial T} \\\\\n",
      "{\\partial h \\over \\partial \\mathbf{z}_{p_0}} & 0\\end{array}\\right] \n",
      "\\left[\\begin{array}{c}\\mathbf{p}_{z,(j)}\\\\ p_{T,(j)} \\end{array}\\right] = \n",
      "\\left[\\begin{array}{c}\\mathbf{0}\\\\0\\end{array} \\right]. $$\n",
      "\n",
      "This amounts to finding the null space of the matrix, which we can do via singular value decomposition (SVD).\n",
      "\n",
      "First we build the matrix. Essentially this is the same as the augmented jacobian we developed earlier; we'll just tweak our definitition to make it correct."
     ]
    },
    {
     "cell_type": "code",
     "collapsed": false,
     "input": [
      "%pylab inline\n",
      "import sympy\n",
      "import numpy as np\n",
      "import pandas as pd\n",
      "from scipy.integrate import odeint\n",
      "from scipy.linalg import svd\n",
      "from scipy.optimize import root"
     ],
     "language": "python",
     "metadata": {},
     "outputs": [
      {
       "output_type": "stream",
       "stream": "stdout",
       "text": [
        "Populating the interactive namespace from numpy and matplotlib\n"
       ]
      },
      {
       "output_type": "stream",
       "stream": "stderr",
       "text": [
        "/Users/cmckay/anaconda/lib/python2.7/site-packages/pytz/__init__.py:29: UserWarning: Module argparse was already imported from /Users/cmckay/anaconda/lib/python2.7/argparse.pyc, but /Users/cmckay/anaconda/lib/python2.7/site-packages is being added to sys.path\n",
        "  from pkg_resources import resource_stream\n"
       ]
      }
     ],
     "prompt_number": 1
    },
    {
     "cell_type": "code",
     "collapsed": false,
     "input": [
      "# helper functions\n",
      "def zdot(z, t):\n",
      "    x1, x2, x1dot, x2dot = z\n",
      "    x1ddot = -0.5*x1**3-(2*x1-x2)\n",
      "    x2ddot = -(2*x2-x1)\n",
      "    return (x1dot, x2dot, x1ddot, x2ddot)\n",
      "\n",
      "def fire(z0, T, returnfull=False):\n",
      "    t = np.linspace(0, T, 500)\n",
      "    thetaseries = odeint(zdot, z0, t)\n",
      "    if returnfull:\n",
      "        return thetaseries\n",
      "    else:\n",
      "        return thetaseries[-1,:]\n",
      "\n",
      "def measure(theta0, thetaT):\n",
      "    \"\"\"Calculate the residual\"\"\"\n",
      "    return thetaT - theta0\n",
      "\n",
      "def converged(residual, tol):\n",
      "    \"\"\"Check convergence to within tol, using the L2 norm\"\"\"\n",
      "    if sum(residual**2) <= tol:\n",
      "        return True\n",
      "    else:\n",
      "        return False, sum(residual**2)\n",
      "\n",
      "def augjac(theta0, T):\n",
      "    \"\"\"Compute the augmented jacobian matrix.\n",
      "    \n",
      "    I'm choosing clarity over efficiency here; if it becomes necessary to change that, I'll refactor.\"\"\"\n",
      "    \n",
      "    # get the baseline residual\n",
      "    final = fire(theta0, T)\n",
      "    H0 = measure(theta0, final)\n",
      "    #print \"augjac H0: \", H0\n",
      "    # choose a step size for the FD that is 0.01% of the residual\n",
      "    steps = np.abs(H0*0.0001)\n",
      "    #print \"augjac steps:\", steps\n",
      "    \n",
      "    jac = []\n",
      "\n",
      "    # finite differences\n",
      "    for idx, step in enumerate(steps):\n",
      "        #print \"augjac: idx, step\", idx, step\n",
      "        thetaidx0 = np.array(theta0)\n",
      "        #print \"augjac: theta0\", thetaidx0\n",
      "        thetaidx0[idx] += step\n",
      "        #print \"augjac: shifted\", thetaidx0\n",
      "        Hidx = measure(thetaidx0, fire(thetaidx0, T))\n",
      "        #print \"augjac: Hidx\", Hidx\n",
      "        #print \"augjac: diff\", Hidx-H0\n",
      "        col = (Hidx-H0)/step\n",
      "        print \"augjac: col\", idx,col\n",
      "        if idx == 2:\n",
      "            col = np.append(col,[1.0],0)\n",
      "        else:\n",
      "            col = np.append(col,[0.0],0)\n",
      "        jac.append(col)\n",
      "\n",
      "    # last column is a little different\n",
      "    dHdT = zdot(final, T)\n",
      "    jac.append(np.append(np.array(dHdT), 0.0))\n",
      "    \n",
      "    #print \"AUGJAC: \", np.matrix(np.array(jac)).T\n",
      "    \n",
      "    # turn it into a matrix and return the inverse\n",
      "    return np.matrix(np.array(jac).T)"
     ],
     "language": "python",
     "metadata": {},
     "outputs": [],
     "prompt_number": 2
    },
    {
     "cell_type": "code",
     "collapsed": false,
     "input": [
      "mat1 = augjac((0.001,0.001,0,0), 2*np.pi)\n",
      "mat1"
     ],
     "language": "python",
     "metadata": {},
     "outputs": [
      {
       "output_type": "stream",
       "stream": "stdout",
       "text": [
        "augjac: col 0 [-0.55132046  0.55561479  0.85974586 -0.85657469]\n",
        "augjac: col 1 [ 0.55128942 -0.55564514 -0.85974219  0.85657751]\n",
        "augjac: col 2 [-0.28685406  0.28525252 -0.55405575  0.55287894]\n",
        "augjac: col 3 [ 0.28696972 -0.28513674  0.55394914 -0.5529859 ]\n"
       ]
      },
      {
       "metadata": {},
       "output_type": "pyout",
       "prompt_number": 3,
       "text": [
        "matrix([[ -5.51320455e-01,   5.51289422e-01,  -2.86854059e-01,\n",
        "           2.86969721e-01,  -8.50753111e-08],\n",
        "        [  5.55614785e-01,  -5.55645137e-01,   2.85252517e-01,\n",
        "          -2.85136736e-01,  -8.53622136e-08],\n",
        "        [  8.59745865e-01,  -8.59742191e-01,  -5.54055748e-01,\n",
        "           5.53949139e-01,  -9.99871207e-04],\n",
        "        [ -8.56574692e-01,   8.56577508e-01,   5.52878941e-01,\n",
        "          -5.52985904e-01,  -9.99871259e-04],\n",
        "        [  0.00000000e+00,   0.00000000e+00,   1.00000000e+00,\n",
        "           0.00000000e+00,   0.00000000e+00]])"
       ]
      }
     ],
     "prompt_number": 3
    },
    {
     "cell_type": "code",
     "collapsed": false,
     "input": [
      "u,s,vh = svd(mat1)"
     ],
     "language": "python",
     "metadata": {},
     "outputs": [],
     "prompt_number": 4
    },
    {
     "cell_type": "code",
     "collapsed": false,
     "input": [
      "tanvec = vh[-1]\n",
      "tanvec[abs(tanvec)<1e-6] = 0\n",
      "tanvec"
     ],
     "language": "python",
     "metadata": {},
     "outputs": [
      {
       "metadata": {},
       "output_type": "pyout",
       "prompt_number": 5,
       "text": [
        "array([ 0.70710474,  0.7071051 ,  0.        ,  0.        ,  0.00229382])"
       ]
      }
     ],
     "prompt_number": 5
    },
    {
     "cell_type": "code",
     "collapsed": false,
     "input": [
      "tanvec[0:4]"
     ],
     "language": "python",
     "metadata": {},
     "outputs": [
      {
       "metadata": {},
       "output_type": "pyout",
       "prompt_number": 6,
       "text": [
        "array([ 0.70710474,  0.7071051 ,  0.        ,  0.        ])"
       ]
      }
     ],
     "prompt_number": 6
    },
    {
     "cell_type": "code",
     "collapsed": false,
     "input": [
      "def tangentvector(z,T):\n",
      "    mat = augjac(z,T)\n",
      "    u,s,vh = svd(mat)\n",
      "    tanvec = vh[-1]\n",
      "    tanvec[abs(tanvec)<1.0e-6] = 0\n",
      "    return tanvec"
     ],
     "language": "python",
     "metadata": {},
     "outputs": [],
     "prompt_number": 7
    },
    {
     "cell_type": "code",
     "collapsed": false,
     "input": [
      "def predictor(z,T,step):\n",
      "    tanvec = tangentvector(z,T)\n",
      "    return z+step*tanvec[0:4], T + step*tanvec[-1]"
     ],
     "language": "python",
     "metadata": {},
     "outputs": [],
     "prompt_number": 8
    },
    {
     "cell_type": "markdown",
     "metadata": {},
     "source": [
      "The step size is apparently a little tricky. Peeters gives the relation $$s_{(j)} = \\left({N^*\\over N_{j-1}}\\right) s_{(j-1)}, $$ where $N^*$ is the target number of iterations in the corrector, and $N_{(j-1)}$ is the number of iterations the last time around. I won't know how to set it up until I've played around with it a little bit."
     ]
    },
    {
     "cell_type": "heading",
     "level": 3,
     "metadata": {},
     "source": [
      "Residual Evaluation"
     ]
    },
    {
     "cell_type": "markdown",
     "metadata": {},
     "source": [
      "Evaluating the residual is simple."
     ]
    },
    {
     "cell_type": "code",
     "collapsed": false,
     "input": [
      "def residual(z,T):\n",
      "    final = fire(z, T)\n",
      "    return(measure(z, final))"
     ],
     "language": "python",
     "metadata": {},
     "outputs": [],
     "prompt_number": 9
    },
    {
     "cell_type": "heading",
     "level": 3,
     "metadata": {},
     "source": [
      "Convergence check"
     ]
    },
    {
     "cell_type": "markdown",
     "metadata": {},
     "source": [
      "We've already defined a convergence check, but I'll duplicate it here."
     ]
    },
    {
     "cell_type": "code",
     "collapsed": false,
     "input": [
      "def converged(residual, tol):\n",
      "    \"\"\"Check convergence to within tol, using the L2 norm\"\"\"\n",
      "    if sum(residual**2) <= tol:\n",
      "        return True\n",
      "    else:\n",
      "        return False, sum(residual**2)"
     ],
     "language": "python",
     "metadata": {},
     "outputs": [],
     "prompt_number": 10
    },
    {
     "cell_type": "heading",
     "level": 3,
     "metadata": {},
     "source": [
      "Corrector step(s)"
     ]
    },
    {
     "cell_type": "markdown",
     "metadata": {},
     "source": [
      "For corrector steps, we use something like Newton-Raphson, but in practice I'll let `scipy.optimize.root` choose the exact method."
     ]
    },
    {
     "cell_type": "code",
     "collapsed": false,
     "input": [
      "def objective(xvec):\n",
      "    x1, x2, x1dot, x2dot, T = xvec\n",
      "    res = fire((x1, x2, x1dot, x2dot), T, returnfull=False)\n",
      "    return np.append(measure((x1, x2, x1dot, x2dot), res), x1dot)\n",
      "\n",
      "\n",
      "def corrector(z,T):\n",
      "    zt = np.append(z, T)\n",
      "    iterres = root(objective, zt, jac=False)\n",
      "    niter = iterres.nfev\n",
      "    solution = iterres.x\n",
      "    return solution"
     ],
     "language": "python",
     "metadata": {},
     "outputs": [],
     "prompt_number": 11
    },
    {
     "cell_type": "heading",
     "level": 3,
     "metadata": {},
     "source": [
      "Putting it all together"
     ]
    },
    {
     "cell_type": "markdown",
     "metadata": {},
     "source": [
      "Because we're using a library routine to do the iterative correction, we don't even really need to run a convergence check before using it.\n",
      "\n",
      "I'm going to package everything together into a class."
     ]
    },
    {
     "cell_type": "code",
     "collapsed": false,
     "input": [
      "class Branch:\n",
      "    def __init__(self):\n",
      "        self.njminus1 = 10\n",
      "        self.stepsize = 0.001\n",
      "        self.nstar = 10\n",
      "        self.tangenttol = 1.0e-6\n",
      "        self.trajectory = []\n",
      "        self.energies = []\n",
      "        self.frequencies = []\n",
      "        self.tanvecs = []\n",
      "        self.niters = []\n",
      "        self.stepsizes = []\n",
      "        \n",
      "    # For the predictor step\n",
      "    def zdot(self,z, t):\n",
      "        \"\"\"The derivative function.\n",
      "        \n",
      "        Depends on the model. This particular function is for 2DOF from Peeters.\"\"\"\n",
      "        \n",
      "        x1, x2, x1dot, x2dot = z\n",
      "        x1ddot = -0.5*x1**3-(2*x1-x2)\n",
      "        x2ddot = -(2*x2-x1)\n",
      "        return (x1dot, x2dot, x1ddot, x2ddot)\n",
      "\n",
      "    def fire(self,z0, T, returnfull=False):\n",
      "        \"\"\"Wrapper for odeint.\"\"\"\n",
      "        t = np.linspace(0, T, 500)\n",
      "        thetaseries = odeint(self.zdot, z0, t)\n",
      "        if returnfull:\n",
      "            return thetaseries\n",
      "        else:\n",
      "            return thetaseries[-1,:]\n",
      "\n",
      "    def measure(self,theta0, thetaT):\n",
      "        \"\"\"Calculate the residual\"\"\"\n",
      "        return thetaT - theta0\n",
      "    \n",
      "    def augjac(self,theta0, T):\n",
      "        \"\"\"Compute the augmented jacobian matrix.\n",
      "    \n",
      "        I'm choosing clarity over efficiency here; if it becomes necessary to change that, I'll refactor.\"\"\"\n",
      "    \n",
      "        # get the baseline residual\n",
      "        final = self.fire(theta0, T)\n",
      "        H0 = self.measure(theta0, final)\n",
      "        # choose a step size for the FD that is 0.01% of the residual\n",
      "        steps = np.abs(H0*0.0001)\n",
      "    \n",
      "        jac = []\n",
      "\n",
      "        # finite differences\n",
      "        for idx, step in enumerate(steps):\n",
      "            thetaidx0 = np.array(theta0)\n",
      "            thetaidx0[idx] += step\n",
      "            Hidx = self.measure(thetaidx0, fire(thetaidx0, T))\n",
      "            col = (Hidx-H0)/step\n",
      "            if idx == 2:\n",
      "                col = np.append(col,[1.0],0)\n",
      "            else:\n",
      "                col = np.append(col,[0.0],0)\n",
      "            jac.append(col)\n",
      "\n",
      "        # last column is a little different\n",
      "        dHdT = self.zdot(final, T)\n",
      "        jac.append(np.append(np.array(dHdT), 0.0))\n",
      "        \n",
      "        # turn it into a matrix with the correct orientation\n",
      "        return np.matrix(np.array(jac).T)        \n",
      "\n",
      "    def tangentvector(self,z,T):\n",
      "        mat = self.augjac(z,T)\n",
      "        u,s,vh = svd(mat)\n",
      "        tanvec = vh[-1]\n",
      "        tanvec[abs(tanvec)<self.tangenttol] = 0\n",
      "        return tanvec\n",
      "        \n",
      "    def predictor(self,z,T):\n",
      "        tanvec = self.tangentvector(z,T)\n",
      "        self.tanvecs.append(tanvec)\n",
      "        self.stepsize = (self.stepsize*self.nstar)/self.njminus1\n",
      "        self.stepsizes.append(self.stepsize)\n",
      "        return z+self.stepsize*tanvec[0:4], T + self.stepsize*tanvec[-1]\n",
      "    \n",
      "    # corrector step\n",
      "    def objective(self,xvec):\n",
      "        x1, x2, x1dot, x2dot, T = xvec\n",
      "        res = fire((x1, x2, x1dot, x2dot), T, returnfull=False)\n",
      "        return np.append(measure((x1, x2, x1dot, x2dot), res), x1dot)\n",
      "\n",
      "    def corrector(self,z,T):\n",
      "        zt = np.append(z, T)\n",
      "        if sum(objective(zt)) <= 1.0e-7:\n",
      "            self.njminus1 = 1\n",
      "            self.niters.append(self.njminus1)\n",
      "            return zt\n",
      "        iterres = root(objective, zt, jac=False)\n",
      "        self.njminus1 = iterres.nfev\n",
      "        self.niters.append(self.njminus1)\n",
      "        solution = iterres.x\n",
      "        return solution\n",
      "    \n",
      "    def nextpoint(self, z, T):\n",
      "        #predictor\n",
      "        predictedz, predictedT = self.predictor(z,T)\n",
      "        \n",
      "        #corrector if necessary\n",
      "        corrected = self.corrector(predictedz, predictedT)\n",
      "        \n",
      "        # store results\n",
      "        self.trajectory.append(corrected)\n",
      "        self.energies.append(self.calc_energy(corrected))\n",
      "        self.frequencies.append(self.calc_frequency(corrected))\n",
      "        \n",
      "        return corrected[0:4], corrected[-1]\n",
      "\n",
      "    def calc_energy(self, zt):\n",
      "        x1, x2, x1dot, x2dot, T = zt\n",
      "        kinetic = (x1dot**2 + x2dot**2)/2.0\n",
      "        potential = x1**2 + x2**2 - x1*x2 + x1**4/8.0\n",
      "        return kinetic + potential\n",
      "        \n",
      "    def calc_frequency(self, zt):\n",
      "        period = zt[-1]\n",
      "        frequency = 1.0/period\n",
      "        return frequency"
     ],
     "language": "python",
     "metadata": {},
     "outputs": [],
     "prompt_number": 79
    },
    {
     "cell_type": "code",
     "collapsed": false,
     "input": [
      "inphase = Branch()"
     ],
     "language": "python",
     "metadata": {},
     "outputs": [],
     "prompt_number": 80
    },
    {
     "cell_type": "code",
     "collapsed": false,
     "input": [
      "startz = np.array((0.0001, 0.0001, 0.0, 0.0))\n",
      "startT = np.pi*2\n",
      "\n",
      "predz, predT = predictor(startz,startT,0.001)"
     ],
     "language": "python",
     "metadata": {},
     "outputs": [
      {
       "output_type": "stream",
       "stream": "stdout",
       "text": [
        "augjac: col 0 [-0.54033586  0.54220942  0.86566563 -0.85829558]\n",
        "augjac: col 1 [ 0.54271326 -0.53983201 -0.85850571  0.86545553]\n",
        "augjac: col 2 [-0.26058226  0.31407148 -0.51192961  0.57061579]\n",
        "augjac: col 3 [ 0.31640289 -0.25825083  0.57262201 -0.50992335]\n"
       ]
      }
     ],
     "prompt_number": 81
    },
    {
     "cell_type": "code",
     "collapsed": false,
     "input": [
      "predz, predT"
     ],
     "language": "python",
     "metadata": {},
     "outputs": [
      {
       "metadata": {},
       "output_type": "pyout",
       "prompt_number": 82,
       "text": [
        "(array([  8.73929347e-05,   8.73935364e-05,   2.12184395e-09,\n",
        "          4.09843864e-09]), 6.2821854661227388)"
       ]
      }
     ],
     "prompt_number": 82
    },
    {
     "cell_type": "code",
     "collapsed": false,
     "input": [
      "corrector(predz, predT)"
     ],
     "language": "python",
     "metadata": {},
     "outputs": [
      {
       "metadata": {},
       "output_type": "pyout",
       "prompt_number": 83,
       "text": [
        "array([  4.45327585e-05,   4.45329371e-05,  -1.12589894e-19,\n",
        "        -1.63432256e-09,   6.28231930e+00])"
       ]
      }
     ],
     "prompt_number": 83
    },
    {
     "cell_type": "code",
     "collapsed": false,
     "input": [
      "inphase.nextpoint((4.45327585e-05, 4.45329371e-05, 0.0, 0.0), 6.28231930e+00)"
     ],
     "language": "python",
     "metadata": {},
     "outputs": [
      {
       "metadata": {},
       "output_type": "pyout",
       "prompt_number": 84,
       "text": [
        "(array([  7.92338747e-05,   7.92382934e-05,   0.00000000e+00,\n",
        "          5.72243863e-09]), 6.283318094959311)"
       ]
      }
     ],
     "prompt_number": 84
    },
    {
     "cell_type": "code",
     "collapsed": false,
     "input": [
      "inphase.njminus1"
     ],
     "language": "python",
     "metadata": {},
     "outputs": [
      {
       "metadata": {},
       "output_type": "pyout",
       "prompt_number": 85,
       "text": [
        "1"
       ]
      }
     ],
     "prompt_number": 85
    },
    {
     "cell_type": "code",
     "collapsed": false,
     "input": [
      "inphase.stepsize"
     ],
     "language": "python",
     "metadata": {},
     "outputs": [
      {
       "metadata": {},
       "output_type": "pyout",
       "prompt_number": 86,
       "text": [
        "0.001"
       ]
      }
     ],
     "prompt_number": 86
    },
    {
     "cell_type": "code",
     "collapsed": false,
     "input": [
      "inphase.frequencies"
     ],
     "language": "python",
     "metadata": {},
     "outputs": [
      {
       "metadata": {},
       "output_type": "pyout",
       "prompt_number": 87,
       "text": [
        "[0.15915157960922488]"
       ]
      }
     ],
     "prompt_number": 87
    },
    {
     "cell_type": "code",
     "collapsed": false,
     "input": [
      "inphase.energies"
     ],
     "language": "python",
     "metadata": {},
     "outputs": [
      {
       "metadata": {},
       "output_type": "pyout",
       "prompt_number": 88,
       "text": [
        "[6.2783570528076583e-09]"
       ]
      }
     ],
     "prompt_number": 88
    },
    {
     "cell_type": "code",
     "collapsed": false,
     "input": [
      "nextzt = inphase.nextpoint(np.array((4.46573393e-05,   4.46556388e-05,  -1.58600893e-26,-2.59958889e-09)),6.2823225677008958)"
     ],
     "language": "python",
     "metadata": {},
     "outputs": [],
     "prompt_number": 89
    },
    {
     "cell_type": "code",
     "collapsed": false,
     "input": [
      "inphase.nstar = 20"
     ],
     "language": "python",
     "metadata": {},
     "outputs": [],
     "prompt_number": 90
    },
    {
     "cell_type": "code",
     "collapsed": false,
     "input": [
      "nextz = nextzt[0]\n",
      "nextT = nextzt[-1]\n",
      "nextzt = inphase.nextpoint(nextz, nextT)"
     ],
     "language": "python",
     "metadata": {},
     "outputs": [],
     "prompt_number": 91
    },
    {
     "cell_type": "code",
     "collapsed": false,
     "input": [
      "inphase.njminus1"
     ],
     "language": "python",
     "metadata": {},
     "outputs": [
      {
       "metadata": {},
       "output_type": "pyout",
       "prompt_number": 92,
       "text": [
        "38"
       ]
      }
     ],
     "prompt_number": 92
    },
    {
     "cell_type": "code",
     "collapsed": false,
     "input": [
      "inphase.stepsize"
     ],
     "language": "python",
     "metadata": {},
     "outputs": [
      {
       "metadata": {},
       "output_type": "pyout",
       "prompt_number": 93,
       "text": [
        "0.2"
       ]
      }
     ],
     "prompt_number": 93
    },
    {
     "cell_type": "code",
     "collapsed": false,
     "input": [
      "for x in xrange(10):\n",
      "    nextz = nextzt[0]\n",
      "    nextT = nextzt[-1]\n",
      "    nextzt = inphase.nextpoint(nextz, nextT)"
     ],
     "language": "python",
     "metadata": {},
     "outputs": [],
     "prompt_number": 94
    },
    {
     "cell_type": "code",
     "collapsed": false,
     "input": [
      "inphase.stepsizes"
     ],
     "language": "python",
     "metadata": {},
     "outputs": [
      {
       "metadata": {},
       "output_type": "pyout",
       "prompt_number": 95,
       "text": [
        "[0.001,\n",
        " 0.01,\n",
        " 0.2,\n",
        " 0.10526315789473684,\n",
        " 2.1052631578947367,\n",
        " 42.10526315789473,\n",
        " 842.1052631578947,\n",
        " 16842.105263157893,\n",
        " 336842.10526315786,\n",
        " 6736842.105263157,\n",
        " 134736842.10526314,\n",
        " 2694736842.1052628,\n",
        " 53894736842.105255]"
       ]
      }
     ],
     "prompt_number": 95
    },
    {
     "cell_type": "code",
     "collapsed": false,
     "input": [
      "inphase.niters"
     ],
     "language": "python",
     "metadata": {},
     "outputs": [
      {
       "metadata": {},
       "output_type": "pyout",
       "prompt_number": 96,
       "text": [
        "[1, 1, 38, 1, 1, 1, 1, 1, 1, 1, 1, 1, 1]"
       ]
      }
     ],
     "prompt_number": 96
    },
    {
     "cell_type": "code",
     "collapsed": false,
     "input": [
      "inphase.tanvecs"
     ],
     "language": "python",
     "metadata": {},
     "outputs": [
      {
       "metadata": {},
       "output_type": "pyout",
       "prompt_number": 72,
       "text": [
        "[array([  3.47011162e-02,   3.47053563e-02,   0.00000000e+00,\n",
        "          5.72243863e-06,   9.98794959e-01]),\n",
        " array([  3.50321398e-02,   3.50272874e-02,   0.00000000e+00,\n",
        "         -7.41778429e-06,   9.98772165e-01]),\n",
        " array([ 0.1093828 ,  0.10938295,  0.        ,  0.        , -0.98796294]),\n",
        " array([  3.56729968e-02,   3.56680959e-02,   0.00000000e+00,\n",
        "         -7.48621008e-06,   9.98726802e-01]),\n",
        " array([  5.41180493e-03,   5.40602568e-03,   0.00000000e+00,\n",
        "         -9.68907173e-06,   9.99970743e-01]),\n",
        " array([ -9.18627283e-02,  -9.18647040e-02,   0.00000000e+00,\n",
        "         -3.67526362e-06,   9.91525146e-01]),\n",
        " array([  5.76363659e-02,   5.76371141e-02,   0.00000000e+00,\n",
        "          1.22238231e-06,  -9.96672470e-01]),\n",
        " array([  9.59844677e-02,   9.59857184e-02,   0.00000000e+00,\n",
        "          2.58037708e-06,  -9.90744025e-01]),\n",
        " array([  9.55051018e-02,   9.55064558e-02,   0.00000000e+00,\n",
        "          2.74131844e-06,  -9.90836663e-01]),\n",
        " array([  9.53629077e-02,   9.53642893e-02,   0.00000000e+00,\n",
        "          2.78696042e-06,  -9.90864051e-01]),\n",
        " array([  9.52562915e-02,   9.52576910e-02,   0.00000000e+00,\n",
        "          2.80645876e-06,  -9.90884560e-01]),\n",
        " array([  9.52717590e-02,   9.52731598e-02,   0.00000000e+00,\n",
        "          2.80488434e-06,  -9.90881586e-01]),\n",
        " array([  9.52658213e-02,   9.52672204e-02,   0.00000000e+00,\n",
        "          2.80600132e-06,  -9.90882728e-01])]"
       ]
      }
     ],
     "prompt_number": 72
    },
    {
     "cell_type": "code",
     "collapsed": false,
     "input": [
      "import matplotlib.pylab as plt\n",
      "%matplotlib inline"
     ],
     "language": "python",
     "metadata": {},
     "outputs": [],
     "prompt_number": 73
    },
    {
     "cell_type": "code",
     "collapsed": false,
     "input": [
      "plt.plot(inphase.energies, inphase.frequencies)"
     ],
     "language": "python",
     "metadata": {},
     "outputs": [
      {
       "metadata": {},
       "output_type": "pyout",
       "prompt_number": 97,
       "text": [
        "[<matplotlib.lines.Line2D at 0x10cfb7e90>]"
       ]
      },
      {
       "metadata": {},
       "output_type": "display_data",
       "png": "[encoded data removed]",
       "text": [
        "<matplotlib.figure.Figure at 0x10ce7f910>"
       ]
      }
     ],
     "prompt_number": 97
    },
    {
     "cell_type": "code",
     "collapsed": false,
     "input": [
      "nextzt"
     ],
     "language": "python",
     "metadata": {},
     "outputs": [
      {
       "metadata": {},
       "output_type": "pyout",
       "prompt_number": 75,
       "text": [
        "(array([  6.49836675e-05,   6.49775012e-05,   2.02792612e-32,\n",
        "         -9.89535228e-09]), 6.2831871139649289)"
       ]
      }
     ],
     "prompt_number": 75
    },
    {
     "cell_type": "code",
     "collapsed": false,
     "input": [
      "inphase.energies"
     ],
     "language": "python",
     "metadata": {},
     "outputs": [
      {
       "metadata": {},
       "output_type": "pyout",
       "prompt_number": 98,
       "text": [
        "[6.2783570528076583e-09,\n",
        " 1.5598837375717457e-07,\n",
        " 6.0182044137832844e-20,\n",
        " 6.0182044137832844e-20,\n",
        " 6.0182044137832844e-20,\n",
        " 6.0182044137832844e-20,\n",
        " 6.0182044137832844e-20,\n",
        " 6.0182044137832844e-20,\n",
        " 6.0182044137832844e-20,\n",
        " 6.0182044137832844e-20,\n",
        " 6.0182044137832844e-20,\n",
        " 6.0182044137832844e-20,\n",
        " 6.0182044137832844e-20]"
       ]
      }
     ],
     "prompt_number": 98
    },
    {
     "cell_type": "code",
     "collapsed": false,
     "input": [
      "inphase.trajectory"
     ],
     "language": "python",
     "metadata": {},
     "outputs": [
      {
       "metadata": {},
       "output_type": "pyout",
       "prompt_number": 77,
       "text": [
        "[array([  7.92338747e-05,   7.92382934e-05,   0.00000000e+00,\n",
        "          5.72243863e-09,   6.28331809e+00]),\n",
        " array([  7.96894791e-05,   7.96829262e-05,  -1.58600893e-26,\n",
        "         -1.00173732e-08,   6.28332134e+00]),\n",
        " array([  4.50462805e-05,   4.50444898e-05,   2.02792612e-32,\n",
        "         -3.00379645e-09,   6.28231760e+00]),\n",
        " array([  6.76958023e-05,   6.76908999e-05,   2.02792612e-32,\n",
        "         -7.75694571e-09,   6.28295171e+00]),\n",
        " array([  6.87866171e-05,   6.87805498e-05,   2.02792612e-32,\n",
        "         -9.70989542e-09,   6.28315327e+00]),\n",
        " array([  6.29085076e-05,   6.29023139e-05,   2.02792612e-32,\n",
        "         -9.94506808e-09,   6.28321671e+00]),\n",
        " array([  6.40793120e-05,   6.40731336e-05,   2.02792612e-32,\n",
        "         -9.92023704e-09,   6.28319647e+00]),\n",
        " array([  6.46982943e-05,   6.46921239e-05,   2.02792612e-32,\n",
        "         -9.90359677e-09,   6.28319008e+00]),\n",
        " array([  6.48938152e-05,   6.48876476e-05,   2.02792612e-32,\n",
        "         -9.89798466e-09,   6.28318805e+00]),\n",
        " array([  6.49557929e-05,   6.49496262e-05,   2.02792612e-32,\n",
        "         -9.89617338e-09,   6.28318740e+00]),\n",
        " array([  6.49754464e-05,   6.49692799e-05,   2.02792612e-32,\n",
        "         -9.89559434e-09,   6.28318720e+00]),\n",
        " array([  6.49816866e-05,   6.49755202e-05,   2.02792612e-32,\n",
        "         -9.89541062e-09,   6.28318713e+00]),\n",
        " array([  6.49836675e-05,   6.49775012e-05,   2.02792612e-32,\n",
        "         -9.89535228e-09,   6.28318711e+00])]"
       ]
      }
     ],
     "prompt_number": 77
    },
    {
     "cell_type": "code",
     "collapsed": false,
     "input": [
      "inphase.frequencies"
     ],
     "language": "python",
     "metadata": {},
     "outputs": [
      {
       "metadata": {},
       "output_type": "pyout",
       "prompt_number": 37,
       "text": [
        "[0.15917679953927677,\n",
        " 0.15917676526714192,\n",
        " 0.15917679921790115,\n",
        " 0.15917681578500067,\n",
        " 0.15917681685407625,\n",
        " 0.15917680885122801,\n",
        " 0.15917683281633102,\n",
        " 0.1591766728024957,\n",
        " 0.15917663578287322,\n",
        " 0.15917679575672614,\n",
        " 0.159176689977405,\n",
        " 0.15917667870991986,\n",
        " 0.15917679457368988]"
       ]
      }
     ],
     "prompt_number": 37
    },
    {
     "cell_type": "code",
     "collapsed": false,
     "input": [],
     "language": "python",
     "metadata": {},
     "outputs": []
    }
   ],
   "metadata": {}
  }
 ]
}