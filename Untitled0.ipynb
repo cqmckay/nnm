{
 "metadata": {
  "name": "",
  "signature": "sha256:bd125dadf2b390f4ed66627ae8b371cd6b3e9a56556c276b903960fe97ef880f"
 },
 "nbformat": 3,
 "nbformat_minor": 0,
 "worksheets": [
  {
   "cells": [
    {
     "cell_type": "code",
     "collapsed": false,
     "input": [
      "%pylab inline\n",
      "import sympy\n",
      "import numpy as np\n",
      "import pandas as pd\n",
      "from scipy.integrate import odeint"
     ],
     "language": "python",
     "metadata": {},
     "outputs": [
      {
       "output_type": "stream",
       "stream": "stdout",
       "text": [
        "Populating the interactive namespace from numpy and matplotlib\n"
       ]
      },
      {
       "output_type": "stream",
       "stream": "stderr",
       "text": [
        "/Users/cmckay/anaconda/lib/python2.7/site-packages/pytz/__init__.py:29: UserWarning: Module argparse was already imported from /Users/cmckay/anaconda/python.app/Contents/lib/python2.7/argparse.pyc, but /Users/cmckay/anaconda/lib/python2.7/site-packages is being added to sys.path\n",
        "  from pkg_resources import resource_stream\n"
       ]
      }
     ],
     "prompt_number": 1
    },
    {
     "cell_type": "code",
     "collapsed": false,
     "input": [
      "sympy.init_printing()"
     ],
     "language": "python",
     "metadata": {},
     "outputs": [],
     "prompt_number": 2
    },
    {
     "cell_type": "code",
     "collapsed": false,
     "input": [
      "m_1, m_2, l_1, l_2, g, omega = sympy.symbols(\"m_1, m_2, l_1, l_2, g, omega\")\n",
      "M = sympy.Matrix([[(m_1+m_2)*l_1**2, m_2*l_1*l_2],[m_2*l_1*l_2, m_2*l_2**2]])\n",
      "B = sympy.Matrix([[-(m_1+m_2)*g*l_1, 0],[0, -m_2*g*l_2]])\n",
      "\n",
      "Ematrix = (M.inv()*B)\n",
      "Ematrix.simplify()\n",
      "Ematrix"
     ],
     "language": "python",
     "metadata": {},
     "outputs": [
      {
       "latex": [
        "$$\\left[\\begin{matrix}- \\frac{g \\left(m_{1} + m_{2}\\right)}{l_{1} m_{1}} & \\frac{g m_{2}}{l_{1} m_{1}}\\\\\\frac{g \\left(m_{1} + m_{2}\\right)}{l_{2} m_{1}} & - \\frac{g \\left(m_{1} + m_{2}\\right)}{l_{2} m_{1}}\\end{matrix}\\right]$$"
       ],
       "metadata": {},
       "output_type": "pyout",
       "png": "[encoded data removed]",
       "prompt_number": 3,
       "text": [
        "\u23a1-g\u22c5(m\u2081 + m\u2082)        g\u22c5m\u2082    \u23a4\n",
        "\u23a2\u2500\u2500\u2500\u2500\u2500\u2500\u2500\u2500\u2500\u2500\u2500\u2500\u2500      \u2500\u2500\u2500\u2500\u2500    \u23a5\n",
        "\u23a2    l\u2081\u22c5m\u2081          l\u2081\u22c5m\u2081    \u23a5\n",
        "\u23a2                            \u23a5\n",
        "\u23a2 g\u22c5(m\u2081 + m\u2082)   -g\u22c5(m\u2081 + m\u2082) \u23a5\n",
        "\u23a2 \u2500\u2500\u2500\u2500\u2500\u2500\u2500\u2500\u2500\u2500\u2500   \u2500\u2500\u2500\u2500\u2500\u2500\u2500\u2500\u2500\u2500\u2500\u2500\u2500\u23a5\n",
        "\u23a3    l\u2082\u22c5m\u2081          l\u2082\u22c5m\u2081    \u23a6"
       ]
      }
     ],
     "prompt_number": 3
    },
    {
     "cell_type": "code",
     "collapsed": false,
     "input": [
      "evects = Ematrix.eigenvects()\n",
      "eval1 = sympy.lambdify((m_1, m_2, l_1, l_2, g), evects[0][0].simplify())\n",
      "eval2 = sympy.lambdify((m_1, m_2, l_1, l_2, g), evects[1][0].simplify())\n",
      "evect1 = sympy.lambdify((m_1, m_2, l_1, l_2, g), [evects[0][2][0][0], 1])\n",
      "evect2 = sympy.lambdify((m_1, m_2, l_1, l_2, g), [evects[1][2][0][0], 1])"
     ],
     "language": "python",
     "metadata": {},
     "outputs": [],
     "prompt_number": 8
    },
    {
     "cell_type": "code",
     "collapsed": false,
     "input": [
      "normalized=np.array(evect1(1,1,1,1,1))/np.sqrt(sum(np.array(evect1(1,1,1,1,1))**2))\n",
      "np.sqrt(sum(normalized**2))"
     ],
     "language": "python",
     "metadata": {},
     "outputs": [
      {
       "latex": [
        "$$1.0$$"
       ],
       "metadata": {},
       "output_type": "pyout",
       "png": "[encoded data removed]",
       "prompt_number": 18,
       "text": [
        "1.0"
       ]
      }
     ],
     "prompt_number": 18
    },
    {
     "cell_type": "code",
     "collapsed": false,
     "input": [
      "np.array(evect1(1,1,1,1,1))/np.linalg.norm(evect1(1,1,1,1,1))"
     ],
     "language": "python",
     "metadata": {},
     "outputs": [
      {
       "metadata": {},
       "output_type": "pyout",
       "prompt_number": 19,
       "text": [
        "array([-0.57735027,  0.81649658])"
       ]
      }
     ],
     "prompt_number": 19
    },
    {
     "cell_type": "code",
     "collapsed": false,
     "input": [],
     "language": "python",
     "metadata": {},
     "outputs": []
    }
   ],
   "metadata": {}
  }
 ]
}